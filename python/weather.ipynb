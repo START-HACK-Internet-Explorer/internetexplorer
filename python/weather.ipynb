{
 "cells": [
  {
   "cell_type": "code",
   "execution_count": 8,
   "metadata": {},
   "outputs": [],
   "source": [
    "import pandas as pd"
   ]
  },
  {
   "cell_type": "code",
   "execution_count": 9,
   "metadata": {},
   "outputs": [
    {
     "name": "stdout",
     "output_type": "stream",
     "text": [
      "                 validdate  leisure_biking:idx  snow_depth:cm  t_2m:C  \\\n",
      "0     2021-01-04T14:00:00Z                 0.0           27.1    -3.9   \n",
      "1     2021-01-07T14:00:00Z                 0.0           27.1    -7.4   \n",
      "2     2021-01-08T14:00:00Z                 0.0           26.6    -9.2   \n",
      "3     2021-01-10T14:00:00Z                 0.0           27.5    -4.1   \n",
      "4     2021-01-11T14:00:00Z                 0.0           27.5    -3.9   \n",
      "...                    ...                 ...            ...     ...   \n",
      "4740  2021-06-20T14:00:00Z                 0.8            0.0    19.9   \n",
      "4741  2021-08-21T14:00:00Z                 0.8            0.0    19.5   \n",
      "4742  2021-06-16T14:00:00Z                 0.8            0.0    18.9   \n",
      "4743  2021-06-23T14:00:00Z                 0.8            0.0    20.9   \n",
      "4744  2021-09-10T14:00:00Z                 0.8            0.0    18.9   \n",
      "\n",
      "      precip_24h:mm  weather_symbol_1h:idx  effective_cloud_cover:octas  \\\n",
      "0              0.00                      1                            0   \n",
      "1              0.00                      1                            0   \n",
      "2              0.00                      1                            0   \n",
      "3              0.00                      1                            0   \n",
      "4              0.00                      1                            0   \n",
      "...             ...                    ...                          ...   \n",
      "4740           0.11                      4                            8   \n",
      "4741           0.00                      4                            8   \n",
      "4742           0.00                      4                            8   \n",
      "4743          16.01                      4                            8   \n",
      "4744           0.00                      4                            8   \n",
      "\n",
      "      Unnamed: 7 Unnamed: 8  \n",
      "0            NaN        NaN  \n",
      "1            NaN        NaN  \n",
      "2            NaN        NaN  \n",
      "3            NaN        NaN  \n",
      "4            NaN        NaN  \n",
      "...          ...        ...  \n",
      "4740         NaN        NaN  \n",
      "4741         NaN        NaN  \n",
      "4742         NaN        NaN  \n",
      "4743         NaN          s  \n",
      "4744         NaN        NaN  \n",
      "\n",
      "[4745 rows x 9 columns]\n"
     ]
    }
   ],
   "source": [
    "weather = pd.read_csv(\"../data/weather.csv\")\n",
    "print(weather)"
   ]
  },
  {
   "cell_type": "code",
   "execution_count": 10,
   "metadata": {},
   "outputs": [],
   "source": [
    "weather[\"leisure_biking:idx\"] = pd.to_numeric(weather[\"leisure_biking:idx\"], downcast=\"float\")\n",
    "weather[\"snow_depth:cm\"] = pd.to_numeric(weather[\"snow_depth:cm\"], downcast=\"float\")\n",
    "weather[\"t_2m:C\"] = pd.to_numeric(weather[\"t_2m:C\"], downcast=\"float\")\n",
    "weather[\"precip_24h:mm\"] = pd.to_numeric(weather[\"precip_24h:mm\"], downcast=\"float\")\n",
    "weather[\"weather_symbol_1h:idx\"] = pd.to_numeric(weather[\"weather_symbol_1h:idx\"], downcast=\"float\")\n",
    "weather[\"effective_cloud_cover:octas\"] = pd.to_numeric(weather[\"effective_cloud_cover:octas\"], downcast=\"float\")"
   ]
  },
  {
   "cell_type": "code",
   "execution_count": 11,
   "metadata": {},
   "outputs": [
    {
     "name": "stderr",
     "output_type": "stream",
     "text": [
      "/var/folders/4t/fcv79ymx7xd_k2n2z1njywxh0000gn/T/ipykernel_52501/3415058296.py:1: FutureWarning: Indexing with multiple keys (implicitly converted to a tuple of keys) will be deprecated, use a list instead.\n",
      "  weather.groupby([\"validdate\"])[\"leisure_biking:idx\", \"snow_depth:cm\", \"t_2m:C\", \"precip_24h:mm\", \"weather_symbol_1h:idx\", \"effective_cloud_cover:octas\"].mean().to_csv(\"../data/Average_weahter.csv\")\n"
     ]
    }
   ],
   "source": [
    "weather.groupby([\"validdate\"])[\"leisure_biking:idx\", \"snow_depth:cm\", \"t_2m:C\", \"precip_24h:mm\", \"weather_symbol_1h:idx\", \"effective_cloud_cover:octas\"].mean().to_csv(\"../data/Average_weahter.csv\")"
   ]
  }
 ],
 "metadata": {
  "interpreter": {
   "hash": "347b24d6d1c94290fe37d074da90279f48732663249ab305e70afa28428cf604"
  },
  "kernelspec": {
   "display_name": "Python 3.10.0 ('starthack')",
   "language": "python",
   "name": "python3"
  },
  "language_info": {
   "codemirror_mode": {
    "name": "ipython",
    "version": 3
   },
   "file_extension": ".py",
   "mimetype": "text/x-python",
   "name": "python",
   "nbconvert_exporter": "python",
   "pygments_lexer": "ipython3",
   "version": "3.10.0"
  },
  "orig_nbformat": 4
 },
 "nbformat": 4,
 "nbformat_minor": 2
}
