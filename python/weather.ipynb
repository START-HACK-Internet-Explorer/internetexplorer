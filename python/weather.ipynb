{
 "cells": [
  {
   "cell_type": "code",
   "execution_count": 2,
   "metadata": {},
   "outputs": [],
   "source": [
    "import pandas as pd\n",
    "\n",
    "weather-df = pd.read_csv()"
   ]
  }
 ],
 "metadata": {
  "interpreter": {
   "hash": "347b24d6d1c94290fe37d074da90279f48732663249ab305e70afa28428cf604"
  },
  "kernelspec": {
   "display_name": "Python 3.10.0 ('starthack')",
   "language": "python",
   "name": "python3"
  },
  "language_info": {
   "codemirror_mode": {
    "name": "ipython",
    "version": 3
   },
   "file_extension": ".py",
   "mimetype": "text/x-python",
   "name": "python",
   "nbconvert_exporter": "python",
   "pygments_lexer": "ipython3",
   "version": "3.10.0"
  },
  "orig_nbformat": 4
 },
 "nbformat": 4,
 "nbformat_minor": 2
}
