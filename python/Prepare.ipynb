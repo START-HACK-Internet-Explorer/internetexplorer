{
 "cells": [
  {
   "cell_type": "code",
   "execution_count": null,
   "id": "9c39f2d3-d555-48cb-9a9e-52e9d4744715",
   "metadata": {},
   "outputs": [],
   "source": [
    "import numpy as np\n",
    "import pandas as pd"
   ]
  },
  {
   "cell_type": "code",
   "execution_count": null,
   "id": "13d7f3fc-e66a-49c5-b727-5aecfcb22b11",
   "metadata": {},
   "outputs": [],
   "source": [
    "data=pd.read_csv('../data/res_mapping.csv', nrows=1000)\n",
    "data['res_dt']=pd.to_datetime(data['res_dt'], format=\"%d.%m.%y %H:%M\")\n",
    "data['dep_soll']=pd.to_datetime(data['dep_soll'], format=\"%d.%m.%y %H:%M\")\n",
    "data['diff']=abs((data['res_dt']-data['dep_soll']).dt.total_seconds())\n",
    "data"
   ]
  },
  {
   "cell_type": "code",
   "execution_count": null,
   "id": "f4453ee0-92b7-47eb-8233-7b71f1ce4155",
   "metadata": {},
   "outputs": [],
   "source": [
    "tokens = list(set(np.hstack([data['bp_from'], data['bp_to']])))"
   ]
  },
  {
   "cell_type": "code",
   "execution_count": null,
   "id": "e5d00f12-ad48-4c40-9e99-ce9213a7a5ca",
   "metadata": {},
   "outputs": [],
   "source": [
    "for index, row in data.iterrows():\n",
    "    data.at[index, 'bp_from_token'] = tokens.index(row['bp_from']) / len(tokens)\n",
    "    data.at[index, 'bp_to_token'] = tokens.index(row['bp_to']) / len(tokens)"
   ]
  },
  {
   "cell_type": "code",
   "execution_count": null,
   "id": "8ad41ae7-1f72-48a5-af5b-8cbf8358844a",
   "metadata": {},
   "outputs": [],
   "source": [
    "data"
   ]
  },
  {
   "cell_type": "code",
   "execution_count": null,
   "id": "4302199e-64db-4b84-b4c4-d6bdd137f82b",
   "metadata": {},
   "outputs": [],
   "source": [
    "data.to_csv('../data/output.csv', columns = ['diff', 'bp_from_token', 'bp_to_token'], index=False)"
   ]
  },
  {
   "cell_type": "code",
   "execution_count": null,
   "id": "55b4b82b-dfd0-4cbd-8b1d-30015a75a471",
   "metadata": {},
   "outputs": [],
   "source": []
  }
 ],
 "metadata": {
  "kernelspec": {
   "display_name": "Python 3",
   "language": "python",
   "name": "python3"
  },
  "language_info": {
   "codemirror_mode": {
    "name": "ipython",
    "version": 3
   },
   "file_extension": ".py",
   "mimetype": "text/x-python",
   "name": "python",
   "nbconvert_exporter": "python",
   "pygments_lexer": "ipython3",
   "version": "3.8.8"
  }
 },
 "nbformat": 4,
 "nbformat_minor": 5
}
