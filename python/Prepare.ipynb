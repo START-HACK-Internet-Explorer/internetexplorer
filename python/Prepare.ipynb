{
 "cells": [
  {
   "cell_type": "code",
   "execution_count": null,
   "id": "9c39f2d3-d555-48cb-9a9e-52e9d4744715",
   "metadata": {},
   "outputs": [],
   "source": [
    "import numpy as np\n",
    "import pandas as pd"
   ]
  },
  {
   "cell_type": "code",
   "execution_count": null,
   "id": "13d7f3fc-e66a-49c5-b727-5aecfcb22b11",
   "metadata": {},
   "outputs": [],
   "source": [
    "data=pd.read_csv('../data/res_mapping.csv', nrows=5000).dropna()\n",
    "data['res_dt']=pd.to_datetime(data['res_dt'], format=\"%d.%m.%y %H:%M\")\n",
    "data['dep_soll']=pd.to_datetime(data['dep_soll'], format=\"%d.%m.%y %H:%M\")\n",
    "data['diff']=abs((data['res_dt']-data['dep_soll']).dt.total_seconds())\n",
    "data['dep_soll_date']=data['dep_soll'].astype(str).str[:10]"
   ]
  },
  {
   "cell_type": "code",
   "execution_count": null,
   "id": "0e4d0f23-a151-4fcf-a370-135dbff5d3ae",
   "metadata": {},
   "outputs": [],
   "source": []
  },
  {
   "cell_type": "code",
   "execution_count": null,
   "id": "e556dee6-1f43-4ae6-8382-31cc8cbcbf71",
   "metadata": {},
   "outputs": [],
   "source": [
    "def weekday_to_number(day):\n",
    "    if day == 'Mo':\n",
    "        return 0\n",
    "    elif day == 'Di':\n",
    "        return 1\n",
    "    elif day == 'Mi':\n",
    "        return 2\n",
    "    elif day == 'Do':\n",
    "        return 3\n",
    "    elif day == 'Fr':\n",
    "        return 4\n",
    "    elif day == 'Sa':\n",
    "        return 5\n",
    "    elif day == 'So':\n",
    "        return 6"
   ]
  },
  {
   "cell_type": "code",
   "execution_count": null,
   "id": "dd578b91-7b4e-4779-9b81-e7cfeed756c3",
   "metadata": {},
   "outputs": [],
   "source": [
    "train_mappings = pd.read_csv('../data/train_mapping.csv').dropna()"
   ]
  },
  {
   "cell_type": "code",
   "execution_count": null,
   "id": "28779d2b-3a61-4ca0-8a72-bae36e9f525d",
   "metadata": {},
   "outputs": [],
   "source": [
    "for index, row in train_mappings.iterrows():\n",
    "    vp = row['VP-Tagesleistung (Spaltte R)']\n",
    "    \n",
    "    if (len(vp) > 5):\n",
    "        # Only support one or two day vp\n",
    "        vp = 'Mo-So'\n",
    "    days = vp.split('-')\n",
    "    \n",
    "    if len(days) == 1:\n",
    "        train_mappings.at[index, 'VP-Tagesleistung (Spaltte R)'] = [weekday_to_number(days[0])]\n",
    "    else:\n",
    "        train_mappings.at[index, 'VP-Tagesleistung (Spaltte R)'] = list(range(weekday_to_number(days[0]), weekday_to_number(days[1])))\n",
    "train_mappings"
   ]
  },
  {
   "cell_type": "code",
   "execution_count": null,
   "id": "de19a4ce-8b3e-4c69-a809-0574fa29a2ab",
   "metadata": {},
   "outputs": [],
   "source": [
    "block_mappings = pd.read_csv('../data/block_mapping.csv').dropna()"
   ]
  },
  {
   "cell_type": "code",
   "execution_count": null,
   "id": "ec5156f7-c3ab-4b55-980d-4697cc8710fa",
   "metadata": {},
   "outputs": [],
   "source": [
    "line_stops=pd.read_csv('../data/line_stops.csv')\n",
    "line_stops = line_stops[np.logical_not(np.logical_and(line_stops['Arrival time'].isnull(), line_stops['Departure time'].isnull()))]\n",
    "line_stops['Stop time'] = line_stops['Arrival time'].fillna(line_stops['Departure time'])\n",
    "line_stops['Stop time'] = pd.to_datetime(line_stops['Stop time'], format=\"%d.%m.%y %H:%M\")\n",
    "line_stops.drop(['Arrival time'], axis=1, inplace=True)\n",
    "line_stops.drop(['Departure time'], axis=1, inplace=True)\n",
    "line_stops"
   ]
  },
  {
   "cell_type": "code",
   "execution_count": null,
   "id": "015a4cb8-4318-47b2-a905-6089606e28ff",
   "metadata": {},
   "outputs": [],
   "source": [
    "opuic_mapping = pd.read_csv('../data/opuic_mapping.csv')\n",
    "opuic_mapping"
   ]
  },
  {
   "cell_type": "code",
   "execution_count": null,
   "id": "37bf4c12-f7b5-4bad-991a-d09a8166afb9",
   "metadata": {},
   "outputs": [],
   "source": [
    "data['stops'] = None\n",
    "data.dtypes"
   ]
  },
  {
   "cell_type": "code",
   "execution_count": null,
   "id": "e5d00f12-ad48-4c40-9e99-ce9213a7a5ca",
   "metadata": {},
   "outputs": [],
   "source": [
    "for index, row in data.iterrows():\n",
    "    from_station = opuic_mapping[opuic_mapping['Station abbreviation'] == row['bp_from']].iloc[0, 0] #OPUIC\n",
    "    to_station = opuic_mapping[opuic_mapping['Station abbreviation'] == row['bp_to']].iloc[0, 0]#OPUIC\n",
    "    # Find all stops and sort by stop time\n",
    "    stops = line_stops[line_stops['Linie'] == row['train_nr']].sort_values(by='Stop time')\n",
    "    \n",
    "    # Locate the indecies\n",
    "    from_el = stops[stops['OPUIC'] == from_station]\n",
    "    to_el = stops[stops['OPUIC'] == to_station]\n",
    "    \n",
    "    if len(from_el) < 1 or len(to_el) < 1:\n",
    "        # Force stop this row, stop missing\n",
    "        continue\n",
    "    \n",
    "    from_el = from_el['Stop time'].iloc[0]\n",
    "    to_el = to_el['Stop time'].iloc[0]\n",
    "    \n",
    "    stops = stops.loc[(stops['Stop time'] >= from_el) & (stops['Stop time'] <= to_el)]['OPUIC'].tolist()\n",
    "    \n",
    "    if len(stops) < 1:\n",
    "        print('SOMETHING WENT REALLY WRONG')\n",
    "        \n",
    "    data.at[index, 'stops'] = frozenset([stop for stop in stops])\n",
    "    \n",
    "    weekday = row['dep_soll'].weekday()\n",
    "    block_nr = train_mappings.loc[\n",
    "        np.logical_and(\n",
    "            train_mappings['Zug'] == row['train_nr'], \n",
    "            weekday in train_mappings['VP-Tagesleistung (Spaltte R)'])].iloc[0, 3]\n",
    "    \n",
    "    found_block = block_mappings.loc[block_mappings['Block Bezeichnung in Jahresformation Fpl-2022'] == block_nr]\n",
    "    \n",
    "    if len(found_block) > 0:\n",
    "        data.at[index, 'max_res_count'] = found_block.iloc[0, 1] \n",
    "    else:\n",
    "        data.at[index, 'max_res_count'] = 0"
   ]
  },
  {
   "cell_type": "code",
   "execution_count": null,
   "id": "ea7a1535-3af6-4460-bd4a-e880259e3219",
   "metadata": {},
   "outputs": [],
   "source": [
    "data"
   ]
  },
  {
   "cell_type": "code",
   "execution_count": null,
   "id": "c501e9b5-82ad-4131-9195-4c75bc2d6454",
   "metadata": {},
   "outputs": [],
   "source": [
    "for index, row in data.iterrows():\n",
    "    reserves = data.loc[np.logical_and(\n",
    "        data['train_nr'] == row['train_nr'],\n",
    "        len(row['stops'].intersection(data['stops'])) > 0)]\n",
    "    print(reserves)\n",
    "    #data.at[index, 'res_count'] = len(data.loc[\n",
    "    #    np.logical_and(data['train_nr'] == row['train_nr'], \n",
    "    #                   data['dep_soll_date'] == row['dep_soll_date'])])"
   ]
  },
  {
   "cell_type": "code",
   "execution_count": null,
   "id": "64cd3dbb-f280-4ad8-9ca5-f556ed950242",
   "metadata": {},
   "outputs": [],
   "source": [
    "data"
   ]
  },
  {
   "cell_type": "code",
   "execution_count": null,
   "id": "6f54869a-043b-4af3-b7c7-809b993c61e4",
   "metadata": {},
   "outputs": [],
   "source": [
    "data[data['res_count'] > data['max_res_count']]"
   ]
  },
  {
   "cell_type": "code",
   "execution_count": null,
   "id": "8ad41ae7-1f72-48a5-af5b-8cbf8358844a",
   "metadata": {},
   "outputs": [],
   "source": [
    "counts = data['max_res_count'] - data['res_count']\n",
    "len(counts.where(counts <= 0).dropna())"
   ]
  },
  {
   "cell_type": "code",
   "execution_count": null,
   "id": "4302199e-64db-4b84-b4c4-d6bdd137f82b",
   "metadata": {},
   "outputs": [],
   "source": [
    "data.to_csv('../data/output.csv', columns = ['stops', 'diff', 'bp_to_token'], index=False)"
   ]
  },
  {
   "cell_type": "code",
   "execution_count": null,
   "id": "55b4b82b-dfd0-4cbd-8b1d-30015a75a471",
   "metadata": {},
   "outputs": [],
   "source": []
  }
 ],
 "metadata": {
  "kernelspec": {
   "display_name": "Python 3",
   "language": "python",
   "name": "python3"
  },
  "language_info": {
   "codemirror_mode": {
    "name": "ipython",
    "version": 3
   },
   "file_extension": ".py",
   "mimetype": "text/x-python",
   "name": "python",
   "nbconvert_exporter": "python",
   "pygments_lexer": "ipython3",
   "version": "3.8.8"
  }
 },
 "nbformat": 4,
 "nbformat_minor": 5
}
