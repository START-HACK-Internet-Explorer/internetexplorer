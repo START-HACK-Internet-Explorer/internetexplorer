{
 "cells": [
  {
   "cell_type": "code",
   "execution_count": null,
   "id": "9c39f2d3-d555-48cb-9a9e-52e9d4744715",
   "metadata": {},
   "outputs": [],
   "source": [
    "import numpy as np\n",
    "import pandas as pd"
   ]
  },
  {
   "cell_type": "code",
   "execution_count": null,
   "id": "13d7f3fc-e66a-49c5-b727-5aecfcb22b11",
   "metadata": {},
   "outputs": [],
   "source": [
    "data=pd.read_csv('../data/res_mapping.csv', nrows=5000).dropna()\n",
    "data['res_dt']=pd.to_datetime(data['res_dt'], format=\"%d.%m.%y %H:%M\")\n",
    "data['dep_soll']=pd.to_datetime(data['dep_soll'], format=\"%d.%m.%y %H:%M\")\n",
    "data['diff']=abs((data['res_dt']-data['dep_soll']).dt.total_seconds())\n",
    "data['dep_soll_date']=data['dep_soll'].astype(str).str[:10]"
   ]
  },
  {
   "cell_type": "code",
   "execution_count": null,
   "id": "f4453ee0-92b7-47eb-8233-7b71f1ce4155",
   "metadata": {},
   "outputs": [],
   "source": [
    "tokens = list(set(np.hstack([data['bp_from'], data['bp_to']])))"
   ]
  },
  {
   "cell_type": "code",
   "execution_count": null,
   "id": "e556dee6-1f43-4ae6-8382-31cc8cbcbf71",
   "metadata": {},
   "outputs": [],
   "source": [
    "def weekday_to_number(day):\n",
    "    if day == 'Mo':\n",
    "        return 0\n",
    "    elif day == 'Di':\n",
    "        return 1\n",
    "    elif day == 'Mi':\n",
    "        return 2\n",
    "    elif day == 'Do':\n",
    "        return 3\n",
    "    elif day == 'Fr':\n",
    "        return 4\n",
    "    elif day == 'Sa':\n",
    "        return 5\n",
    "    elif day == 'So':\n",
    "        return 6"
   ]
  },
  {
   "cell_type": "code",
   "execution_count": null,
   "id": "dd578b91-7b4e-4779-9b81-e7cfeed756c3",
   "metadata": {},
   "outputs": [],
   "source": [
    "train_mappings=pd.read_csv('../data/train_mapping.csv').dropna()\n",
    "train_mappings"
   ]
  },
  {
   "cell_type": "code",
   "execution_count": null,
   "id": "28779d2b-3a61-4ca0-8a72-bae36e9f525d",
   "metadata": {},
   "outputs": [],
   "source": [
    "for index, row in train_mappings.iterrows():\n",
    "    vp = row['VP-Tagesleistung (Spaltte R)']\n",
    "    \n",
    "    if (len(vp) > 5):\n",
    "        # Only support one or two day vp\n",
    "        vp = 'Mo-So'\n",
    "    days = vp.split('-')\n",
    "    \n",
    "    if len(days) == 1:\n",
    "        train_mappings.at[index, 'VP-Tagesleistung (Spaltte R)'] = [weekday_to_number(days[0])]\n",
    "    else:\n",
    "        train_mappings.at[index, 'VP-Tagesleistung (Spaltte R)'] = list(range(weekday_to_number(days[0]), weekday_to_number(days[1])))"
   ]
  },
  {
   "cell_type": "code",
   "execution_count": null,
   "id": "de19a4ce-8b3e-4c69-a809-0574fa29a2ab",
   "metadata": {},
   "outputs": [],
   "source": [
    "block_mappings=pd.read_csv('../data/block_mapping.csv').dropna()"
   ]
  },
  {
   "cell_type": "code",
   "execution_count": null,
   "id": "e5d00f12-ad48-4c40-9e99-ce9213a7a5ca",
   "metadata": {},
   "outputs": [],
   "source": [
    "for index, row in data.iterrows():\n",
    "    data.at[index, 'bp_from_token'] = tokens.index(row['bp_from']) / len(tokens)\n",
    "    data.at[index, 'bp_to_token'] = tokens.index(row['bp_to']) / len(tokens)\n",
    "    data.at[index, 'res_count'] = len(data.loc[\n",
    "        np.logical_and(data['train_nr'] == row['train_nr'], \n",
    "                       data['dep_soll_date'] == row['dep_soll_date'])])\n",
    "    weekday = row['dep_soll'].weekday()\n",
    "    print(weekday)\n",
    "    block_nr = train_mappings.loc[train_mappings['Zug'] == row['train_nr']].iloc[0, 3]\n",
    "    found_block = block_mappings.loc[block_mappings['Block Bezeichnung in Jahresformation Fpl-2022'] == block_nr]\n",
    "    \n",
    "    if len(found_block) > 0:\n",
    "        data.at[index, 'max_res_count'] = found_block.iloc[0, 1] \n",
    "    else:\n",
    "        data.at[index, 'max_res_count'] = 0"
   ]
  },
  {
   "cell_type": "code",
   "execution_count": null,
   "id": "6f54869a-043b-4af3-b7c7-809b993c61e4",
   "metadata": {},
   "outputs": [],
   "source": [
    "data[data['res_count'] > data['max_res_count']]"
   ]
  },
  {
   "cell_type": "code",
   "execution_count": null,
   "id": "8ad41ae7-1f72-48a5-af5b-8cbf8358844a",
   "metadata": {},
   "outputs": [],
   "source": [
    "counts = data['max_res_count'] - data['res_count']\n",
    "len(counts.where(counts <= 0).dropna())"
   ]
  },
  {
   "cell_type": "code",
   "execution_count": null,
   "id": "4302199e-64db-4b84-b4c4-d6bdd137f82b",
   "metadata": {},
   "outputs": [],
   "source": [
    "data.to_csv('../data/output.csv', columns = ['diff', 'bp_from_token', 'bp_to_token'], index=False)"
   ]
  },
  {
   "cell_type": "code",
   "execution_count": null,
   "id": "55b4b82b-dfd0-4cbd-8b1d-30015a75a471",
   "metadata": {},
   "outputs": [],
   "source": []
  }
 ],
 "metadata": {
  "kernelspec": {
   "display_name": "Python 3",
   "language": "python",
   "name": "python3"
  },
  "language_info": {
   "codemirror_mode": {
    "name": "ipython",
    "version": 3
   },
   "file_extension": ".py",
   "mimetype": "text/x-python",
   "name": "python",
   "nbconvert_exporter": "python",
   "pygments_lexer": "ipython3",
   "version": "3.8.8"
  }
 },
 "nbformat": 4,
 "nbformat_minor": 5
}
