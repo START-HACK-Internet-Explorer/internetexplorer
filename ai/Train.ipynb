{
 "cells": [
  {
   "cell_type": "markdown",
   "id": "a51268f8-b939-4c95-8646-fcec00625412",
   "metadata": {},
   "source": [
    "**Imports**"
   ]
  },
  {
   "cell_type": "code",
   "execution_count": null,
   "id": "30b96b27-f4c2-4e0c-b92f-409a17bcea56",
   "metadata": {},
   "outputs": [],
   "source": [
    "import numpy as np\n",
    "import pandas as pd\n",
    "import os \n",
    "\n",
    "import tensorflow as tf\n",
    "\n",
    "from sbb import Sbb\n",
    "\n",
    "%matplotlib inline\n",
    "import matplotlib.pyplot as plt"
   ]
  },
  {
   "cell_type": "markdown",
   "id": "cfd8f97c-7a7e-453f-8f31-c682d8161fff",
   "metadata": {},
   "source": [
    "**Global variables**"
   ]
  },
  {
   "cell_type": "code",
   "execution_count": null,
   "id": "5bae30ec-4483-4cca-a36e-3e4b2753bc5c",
   "metadata": {},
   "outputs": [],
   "source": [
    "model_folder = '../model'\n",
    "\n",
    "checkpoint_path = model_folder + \"/sbb.ckpt\"\n",
    "\n",
    "output_size = 7\n",
    "input_size = (1, 5)"
   ]
  },
  {
   "cell_type": "code",
   "execution_count": null,
   "id": "deedcacf-a8c6-4a29-9079-741278464f9e",
   "metadata": {},
   "outputs": [],
   "source": [
    "if not os.path.exists(model_folder):\n",
    "    os.mkdir(model_folder)"
   ]
  },
  {
   "cell_type": "code",
   "execution_count": null,
   "id": "e696b2f6-a9c1-4ecc-85ec-646f68edc4dc",
   "metadata": {},
   "outputs": [],
   "source": [
    "physical_devices = tf.config.list_physical_devices(\"GPU\")\n",
    "\n",
    "if len(physical_devices) > 0:\n",
    "    tf.config.experimental.set_memory_growth(physical_devices[0], True)"
   ]
  },
  {
   "cell_type": "markdown",
   "id": "8383ee06-37cf-41ef-85c3-00929da501ad",
   "metadata": {},
   "source": [
    "**Retrive data from system**"
   ]
  },
  {
   "cell_type": "code",
   "execution_count": null,
   "id": "c6be0ce7-e521-46e8-bbae-2089c221c768",
   "metadata": {},
   "outputs": [],
   "source": [
    "data = pd.read_csv('../data/output.csv').dropna()\n",
    "train_count = round(len(data) * 0.8)\n",
    "\n",
    "train_data, validation_data = data.iloc[:train_count], data.iloc[train_count:]"
   ]
  },
  {
   "cell_type": "code",
   "execution_count": null,
   "id": "cf6ee098-1def-43f0-959a-b6643adddee4",
   "metadata": {},
   "outputs": [],
   "source": [
    "def fire(raw_data, batch_size=32):\n",
    "    return_index = 0\n",
    "    max_index = len(raw_data) // batch_size\n",
    "    \n",
    "    for i in range(1, max_index):\n",
    "        t_data = raw_data[batch_size * i:batch_size * (i+1)]\n",
    "        yield np.expand_dims(t_data.to_numpy()[:, :5], axis=1), np.expand_dims(t_data.to_numpy()[:, 5:], axis=1)"
   ]
  },
  {
   "cell_type": "code",
   "execution_count": null,
   "id": "de429b3c-0864-40a7-a8f6-770d6c0dfba3",
   "metadata": {},
   "outputs": [],
   "source": [
    "train_dataset = tf.data.Dataset.from_generator(\n",
    "    generator=lambda: fire(raw_data=train_data),\n",
    "    output_types=(tf.float64, tf.float64),\n",
    "    output_shapes=([None] + list(input_size), [None, 1, output_size]))\n",
    "\n",
    "test_dataset = tf.data.Dataset.from_generator(\n",
    "    generator=lambda: fire(raw_data=validation_data),\n",
    "    output_types=(tf.float64, tf.float64),\n",
    "    output_shapes=([None] + list(input_size), [None, 1, output_size]))"
   ]
  },
  {
   "cell_type": "code",
   "execution_count": null,
   "id": "40403334-d3bf-40d0-b9ac-b1bd0fb8ec37",
   "metadata": {},
   "outputs": [],
   "source": [
    "sbb = Sbb(checkpoint_path, output_size, input_size)"
   ]
  },
  {
   "cell_type": "code",
   "execution_count": null,
   "id": "f185ddea-048e-4a4f-94df-577e5916bd36",
   "metadata": {},
   "outputs": [],
   "source": [
    "sbb.train(train_dataset, test_dataset, epochs=50, batch_size=32)"
   ]
  },
  {
   "cell_type": "code",
   "execution_count": null,
   "id": "a7e7dd12-7c16-4dd8-92fc-6fc59d5708e2",
   "metadata": {},
   "outputs": [],
   "source": [
    "sbb.evaluate(test_dataset)"
   ]
  },
  {
   "cell_type": "code",
   "execution_count": null,
   "id": "34898bb1-7439-4fa4-98f9-0db1481b2fcc",
   "metadata": {},
   "outputs": [],
   "source": []
  }
 ],
 "metadata": {
  "kernelspec": {
   "display_name": "Python 3",
   "language": "python",
   "name": "python3"
  },
  "language_info": {
   "codemirror_mode": {
    "name": "ipython",
    "version": 3
   },
   "file_extension": ".py",
   "mimetype": "text/x-python",
   "name": "python",
   "nbconvert_exporter": "python",
   "pygments_lexer": "ipython3",
   "version": "3.8.8"
  }
 },
 "nbformat": 4,
 "nbformat_minor": 5
}
